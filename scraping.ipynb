{
 "cells": [
  {
   "cell_type": "markdown",
   "id": "809a21ef",
   "metadata": {},
   "source": [
    "## 1. Data Collected and Its Use\n",
    "> I choose booking.com as the platform for data collection. The data I want to collect includes:\n",
    "\n",
    "- The name of the accommodation: Unique name of the property (hotel, guesthouse, etc.) for identification and branding.\n",
    "- Price per night: Cost of staying per night, crucial for price comparison and booking decisions.\n",
    "\n",
    "- Guest Rating: Average score from guest reviews (1-10 scale), indicating customer satisfaction and influencing reputation.\n",
    "- Guest Total Ratings: Total number of reviews given by guests, providing context for the guest rating's validity and the property's popularity.\n",
    "\n",
    "- Location: Geographical address of the property, important for location analysis, mapping, and guest choice based on their destination.\n",
    "- Star Rating: Standardized classification system (1-5 stars) given by authorities, indicating the general level of facilities and service quality.\n",
    "\n",
    "> Reasons for Data Importance:\n",
    "\n",
    "- This data can be used to build recommendation systems, analyze price trends, or determine marketing strategies based on location and ratings.\n",
    "- Storing data in PostgreSQL allows us to take advantage of features such as indexing for quick searches, JSON support for semi-structured data, and powerful analytics capabilities."
   ]
  },
  {
   "cell_type": "markdown",
   "id": "296f926c",
   "metadata": {},
   "source": [
    "## 2.Data Scraping Using BeautifulSoup"
   ]
  },
  {
   "cell_type": "code",
   "execution_count": null,
   "id": "a16886fe",
   "metadata": {},
   "outputs": [],
   "source": [
    "# import library yang dibutuhkan\n",
    "\n",
    "import requests\n",
    "from bs4 import BeautifulSoup\n",
    "import time\n",
    "from selenium import webdriver\n",
    "import pandas as pd\n",
    "import re\n",
    "from selenium.webdriver.support.ui import WebDriverWait\n",
    "from selenium.webdriver.support import expected_conditions as EC\n",
    "from selenium.common.exceptions import ElementClickInterceptedException, NoSuchElementException\n",
    "from selenium.webdriver.common.by import By\n",
    "pd.set_option('display.max_columns', None)\n",
    "pd.set_option('display.max_rows', None)\n",
    "import os\n",
    "pd.options.display.max_colwidth = 999\n",
    "pd.options.display.max_rows = 999"
   ]
  },
  {
   "cell_type": "markdown",
   "id": "2bfe4e6e",
   "metadata": {},
   "source": [
    "#### Five star rating"
   ]
  },
  {
   "cell_type": "markdown",
   "id": "89ef76a7",
   "metadata": {},
   "source": [
    "> * We are scraping data from hotels available in Yogyakarta, Indonesia, for the dates around July 26–27, 2025, filtered by a five-star hotel rating.\n",
    "\n",
    "> * We are scraping the first page using a scrolling system."
   ]
  },
  {
   "cell_type": "code",
   "execution_count": null,
   "id": "b5cfd358",
   "metadata": {},
   "outputs": [],
   "source": [
    "# URL Booking.com dengan filter bintang 4\n",
    "url_hotel_4_star = \"https://www.booking.com/searchresults.id.html?label=gen173nr-1BCAEoggI46AdIM1gEaGiIAQGYARK4ARfIAQzYAQHoAQGIAgGoAgO4AsneycMGwAIB0gIkM2NiM2FjZTgtN2QyNC00ODcwLWE4NDktOGViYTUzN2NjNWFk2AIF4AIB&sid=98a2dc5e83d843937bd12ce44cdf1994&aid=304142&ss=Yogyakarta&ssne=Yogyakarta&ssne_untouched=Yogyakarta&efdco=1&lang=id&src=searchresults&dest_id=-2703546&dest_type=city&checkin=2025-07-26&checkout=2025-07-27&group_adults=2&no_rooms=1&group_children=0&nflt=class%3D5\"\n",
    "\n",
    "# Konfigurasi Chrome\n",
    "option = webdriver.ChromeOptions()\n",
    "option.add_argument(\"--start-maximized\")\n",
    "\n",
    "driver = webdriver.Chrome(options=option)\n",
    "driver.get(url_hotel_4_star)\n",
    "\n",
    "# Waktu tunggu awal\n",
    "time.sleep(5)\n",
    "\n",
    "# Simulasikan scroll hingga akhir halaman\n",
    "last_height = driver.execute_script(\"return document.body.scrollHeight\")\n",
    "scroll_pause_time = 3\n",
    "\n",
    "while True:\n",
    "    # Scroll ke bawah\n",
    "    driver.execute_script(\"window.scrollTo(0, document.body.scrollHeight);\")\n",
    "    time.sleep(scroll_pause_time)\n",
    "\n",
    "    # Cek apakah sudah tidak ada perubahan scroll\n",
    "    new_height = driver.execute_script(\"return document.body.scrollHeight\")\n",
    "    if new_height == last_height:\n",
    "        break\n",
    "    last_height = new_height\n",
    "\n",
    "# Setelah selesai scroll, ambil HTML\n",
    "soup_5_star = BeautifulSoup(driver.page_source, \"html.parser\")"
   ]
  },
  {
   "cell_type": "code",
   "execution_count": null,
   "id": "dd82c7db",
   "metadata": {},
   "outputs": [],
   "source": [
    "for tag in soup_5_star.find_all(True):\n",
    "    print(tag.name)"
   ]
  },
  {
   "cell_type": "code",
   "execution_count": null,
   "id": "cb018d25",
   "metadata": {},
   "outputs": [],
   "source": [
    "div_5_star_containers = soup_5_star.find_all('div', attrs={'class': 'aa97d6032f'})\n",
    "print(div_5_star_containers)"
   ]
  },
  {
   "cell_type": "markdown",
   "id": "885431b9",
   "metadata": {},
   "source": [
    "- Hotel names"
   ]
  },
  {
   "cell_type": "code",
   "execution_count": null,
   "id": "970fa18e",
   "metadata": {},
   "outputs": [],
   "source": [
    "hotel_names = []\n",
    "for container in div_5_star_containers:\n",
    "    name = container.find('div', attrs={\"class\":'b87c397a13 a3e0b4ffd1'})\n",
    "    print('==== part 1====')\n",
    "    print(name)\n",
    "    if name:\n",
    "      names = name.text.strip()\n",
    "    else:\n",
    "      names = None\n",
    "    hotel_names.append((names))\n",
    "    print('==== part 2====')\n",
    "    print(hotel_names)\n",
    "\n",
    "hotel_name_5_star = pd.DataFrame(hotel_names, columns=['Name'])\n",
    "hotel_name_5_star"
   ]
  },
  {
   "cell_type": "markdown",
   "id": "81265f7b",
   "metadata": {},
   "source": [
    "- Price Hotel"
   ]
  },
  {
   "cell_type": "code",
   "execution_count": null,
   "id": "e0b6e068",
   "metadata": {},
   "outputs": [],
   "source": [
    "# Extract prices\n",
    "Price_hotel = []\n",
    "for container in div_5_star_containers:\n",
    "    Price = container.find('span', attrs={\"class\": 'b87c397a13 f2f358d1de ab607752a2'})\n",
    "    # listingPrice__finalPrice listingPrice__finalPrice--black\n",
    "    if Price:\n",
    "       Prices = Price.text.strip()\n",
    "    else:\n",
    "       Prices = None\n",
    "    Price_hotel.append(Prices)\n",
    "    # print(Price_hotel)\n",
    "\n",
    "# Convert price list to DataFrame\n",
    "Price_hotel_5_star = pd.DataFrame(Price_hotel, columns=['Price'])\n",
    "Price_hotel_5_star"
   ]
  },
  {
   "cell_type": "markdown",
   "id": "e3e10dc5",
   "metadata": {},
   "source": [
    "- Guest Rating"
   ]
  },
  {
   "cell_type": "code",
   "execution_count": null,
   "id": "13629744",
   "metadata": {},
   "outputs": [],
   "source": [
    "guest_ratings_hotel = []\n",
    "\n",
    "for container in div_5_star_containers:\n",
    "    review_div = container.find('div', attrs={'data-testid': 'review-score'})\n",
    "    if review_div:\n",
    "        rating_span = review_div.find('div', class_='f63b14ab7a dff2e52086')\n",
    "        if rating_span:\n",
    "            guest_ratings_hotel.append(rating_span.text.strip())\n",
    "        else:\n",
    "            guest_ratings_hotel.append(None)\n",
    "    else:\n",
    "        guest_ratings_hotel.append(None)\n",
    "\n",
    "guest_ratings_hotel_5_star = pd.DataFrame(guest_ratings_hotel, columns=['guest_rating'])\n",
    "guest_ratings_hotel_5_star\n"
   ]
  },
  {
   "cell_type": "markdown",
   "id": "1ad54d52",
   "metadata": {},
   "source": [
    "- Total Ratings"
   ]
  },
  {
   "cell_type": "code",
   "execution_count": null,
   "id": "520a58e2",
   "metadata": {},
   "outputs": [],
   "source": [
    "guest_review_counts = []\n",
    "\n",
    "for container in div_5_star_containers:\n",
    "    review_score_section = container.find('div', attrs={'data-testid': 'review-score'})\n",
    "    if review_score_section:\n",
    "        review_count_div = review_score_section.find('div', class_='fff1944c52 fb14de7f14 eaa8455879')\n",
    "        if review_count_div:\n",
    "            text = review_count_div.text\n",
    "            guest_review_counts.append(text)\n",
    "        else:\n",
    "            guest_review_counts.append(None)\n",
    "    else:\n",
    "        guest_review_counts.append(None)\n",
    "\n",
    "df_guest_review_counts_5_star = pd.DataFrame(guest_review_counts, columns=['total_guest_reviews'])\n",
    "df_guest_review_counts_5_star\n"
   ]
  },
  {
   "cell_type": "markdown",
   "id": "54c5421e",
   "metadata": {},
   "source": [
    "- Location hotel"
   ]
  },
  {
   "cell_type": "code",
   "execution_count": null,
   "id": "122d8e9e",
   "metadata": {},
   "outputs": [],
   "source": [
    "location_hotel_5_star = []\n",
    "for container in div_5_star_containers:\n",
    "    location = container.find('span', attrs={\"class\":'d823fbbeed f9b3563dd4'}).text\n",
    "    location_hotel_5_star.append((location))\n",
    "\n",
    "location_hotel_5_star = pd.DataFrame(location_hotel_5_star, columns=['Location'])\n",
    "location_hotel_5_star"
   ]
  },
  {
   "cell_type": "markdown",
   "id": "a0928fa0",
   "metadata": {},
   "source": [
    "- Merge columns"
   ]
  },
  {
   "cell_type": "code",
   "execution_count": null,
   "id": "e4fb8544",
   "metadata": {},
   "outputs": [],
   "source": [
    "df_5_star_hotels = pd.concat([hotel_name_5_star, Price_hotel_5_star, guest_ratings_hotel_5_star, df_guest_review_counts_5_star, location_hotel_5_star], axis=1)\n",
    "df_5_star_hotels['star_rating'] = 5\n",
    "\n",
    "# Print the total number of hotels\n",
    "print('Total Hotels : ', len(df_5_star_hotels))\n",
    "\n",
    "# Display the first few rows of the combined DataFrame\n",
    "df_5_star_hotels"
   ]
  },
  {
   "cell_type": "markdown",
   "id": "2178942d",
   "metadata": {},
   "source": [
    "#### Four Star Rating"
   ]
  },
  {
   "cell_type": "markdown",
   "id": "3edb4e88",
   "metadata": {},
   "source": [
    "> * We are scraping data from hotels available in Yogyakarta, Indonesia, for the dates around July 26–27, 2025, filtered by a four-star hotel rating.\n",
    "\n",
    "> * We are scraping the first page using a scrolling system."
   ]
  },
  {
   "cell_type": "code",
   "execution_count": null,
   "id": "9510c75b",
   "metadata": {},
   "outputs": [],
   "source": [
    "# URL Booking.com dengan filter bintang 4\n",
    "url_hotel_4_star = \"https://www.booking.com/searchresults.id.html?label=gen173nr-1BCAEoggI46AdIM1gEaGiIAQGYARK4ARfIAQzYAQHoAQGIAgGoAgO4AsneycMGwAIB0gIkM2NiM2FjZTgtN2QyNC00ODcwLWE4NDktOGViYTUzN2NjNWFk2AIF4AIB&sid=98a2dc5e83d843937bd12ce44cdf1994&aid=304142&ss=Yogyakarta&ssne=Yogyakarta&ssne_untouched=Yogyakarta&efdco=1&lang=id&src=searchresults&dest_id=-2703546&dest_type=city&checkin=2025-07-26&checkout=2025-07-27&group_adults=2&no_rooms=1&group_children=0&nflt=class%3D4\"\n",
    "\n",
    "# Konfigurasi Chrome\n",
    "option = webdriver.ChromeOptions()\n",
    "option.add_argument(\"--start-maximized\")\n",
    "\n",
    "driver = webdriver.Chrome(options=option)\n",
    "driver.get(url_hotel_4_star)\n",
    "\n",
    "# Waktu tunggu awal\n",
    "time.sleep(5)\n",
    "\n",
    "# Simulasikan scroll hingga akhir halaman\n",
    "last_height = driver.execute_script(\"return document.body.scrollHeight\")\n",
    "scroll_pause_time = 3\n",
    "\n",
    "while True:\n",
    "    # Scroll ke bawah\n",
    "    driver.execute_script(\"window.scrollTo(0, document.body.scrollHeight);\")\n",
    "    time.sleep(scroll_pause_time)\n",
    "\n",
    "    # Cek apakah sudah tidak ada perubahan scroll\n",
    "    new_height = driver.execute_script(\"return document.body.scrollHeight\")\n",
    "    if new_height == last_height:\n",
    "        break\n",
    "    last_height = new_height\n",
    "\n",
    "# Setelah selesai scroll, ambil HTML\n",
    "soup_4_star = BeautifulSoup(driver.page_source, \"html.parser\")"
   ]
  },
  {
   "cell_type": "code",
   "execution_count": null,
   "id": "61846205",
   "metadata": {},
   "outputs": [],
   "source": [
    "div_4_star_containers = soup_4_star.find_all('div', attrs={'class':\"aa97d6032f\"})\n",
    "print(div_4_star_containers)"
   ]
  },
  {
   "cell_type": "markdown",
   "id": "ba1b1723",
   "metadata": {},
   "source": [
    "- Hotel Names"
   ]
  },
  {
   "cell_type": "code",
   "execution_count": null,
   "id": "c99f268e",
   "metadata": {},
   "outputs": [],
   "source": [
    "hotel_names = []\n",
    "for container in div_4_star_containers:\n",
    "    name = container.find('div', attrs={\"class\":'b87c397a13 a3e0b4ffd1'})\n",
    "    print('==== part 1====')\n",
    "    print(name)\n",
    "    if name:\n",
    "      names = name.text.strip()\n",
    "    else:\n",
    "      names = None\n",
    "    hotel_names.append((names))\n",
    "    print('==== part 2====')\n",
    "    print(hotel_names)\n",
    "\n",
    "hotel_name_4_star = pd.DataFrame(hotel_names, columns=['Name'])\n",
    "hotel_name_4_star"
   ]
  },
  {
   "cell_type": "markdown",
   "id": "4744c961",
   "metadata": {},
   "source": [
    "- Price hotel"
   ]
  },
  {
   "cell_type": "code",
   "execution_count": null,
   "id": "ba062501",
   "metadata": {},
   "outputs": [],
   "source": [
    "# Extract prices\n",
    "Price_hotel = []\n",
    "for container in div_4_star_containers:\n",
    "    Price = container.find('span', attrs={\"class\": 'b87c397a13 f2f358d1de ab607752a2'})\n",
    "    # listingPrice__finalPrice listingPrice__finalPrice--black\n",
    "    if Price:\n",
    "       Prices = Price.text.strip()\n",
    "    else:\n",
    "       Prices = None\n",
    "    Price_hotel.append(Prices)\n",
    "    # print(Price_hotel)\n",
    "\n",
    "# Convert price list to DataFrame\n",
    "Price_hotel_4_star = pd.DataFrame(Price_hotel, columns=['Price'])\n",
    "Price_hotel_4_star"
   ]
  },
  {
   "cell_type": "markdown",
   "id": "89c24afb",
   "metadata": {},
   "source": [
    "- Guest Ratings"
   ]
  },
  {
   "cell_type": "code",
   "execution_count": null,
   "id": "7d2a0f2b",
   "metadata": {},
   "outputs": [],
   "source": [
    "guest_ratings_hotel = []\n",
    "\n",
    "for container in div_4_star_containers:\n",
    "    review_div = container.find('div', attrs={'data-testid': 'review-score'})\n",
    "    if review_div:\n",
    "        rating_span = review_div.find('div', class_='f63b14ab7a dff2e52086')\n",
    "        if rating_span:\n",
    "            guest_ratings_hotel.append(rating_span.text.strip())\n",
    "        else:\n",
    "            guest_ratings_hotel.append(None)\n",
    "    else:\n",
    "        guest_ratings_hotel.append(None)\n",
    "\n",
    "guest_ratings_hotel_4_star = pd.DataFrame(guest_ratings_hotel, columns=['guest_rating'])\n",
    "guest_ratings_hotel_4_star\n"
   ]
  },
  {
   "cell_type": "markdown",
   "id": "0220d681",
   "metadata": {},
   "source": [
    "- Total Ratings"
   ]
  },
  {
   "cell_type": "code",
   "execution_count": null,
   "id": "4c765d26",
   "metadata": {},
   "outputs": [],
   "source": [
    "guest_review_counts = []\n",
    "\n",
    "for container in div_4_star_containers:\n",
    "    review_score_section = container.find('div', attrs={'data-testid': 'review-score'})\n",
    "    if review_score_section:\n",
    "        review_count_div = review_score_section.find('div', class_='fff1944c52 fb14de7f14 eaa8455879')\n",
    "        if review_count_div:\n",
    "            text = review_count_div.text\n",
    "            guest_review_counts.append(text)\n",
    "        else:\n",
    "            guest_review_counts.append(None)\n",
    "    else:\n",
    "        guest_review_counts.append(None)\n",
    "\n",
    "guest_review_counts_4_star = pd.DataFrame(guest_review_counts, columns=['total_guest_reviews'])\n",
    "guest_review_counts_4_star\n"
   ]
  },
  {
   "cell_type": "markdown",
   "id": "901d9dac",
   "metadata": {},
   "source": [
    "- Location"
   ]
  },
  {
   "cell_type": "code",
   "execution_count": null,
   "id": "9cb7aee6",
   "metadata": {},
   "outputs": [],
   "source": [
    "location_hotel_4_star = []\n",
    "for container in div_4_star_containers:\n",
    "    location = container.find('span', attrs={\"class\":'d823fbbeed f9b3563dd4'}).text\n",
    "    location_hotel_4_star.append((location))\n",
    "\n",
    "location_hotel_4_star = pd.DataFrame(location_hotel_4_star, columns=['Location'])\n",
    "location_hotel_4_star"
   ]
  },
  {
   "cell_type": "markdown",
   "id": "c3389558",
   "metadata": {},
   "source": [
    "- Merge Columns"
   ]
  },
  {
   "cell_type": "code",
   "execution_count": null,
   "id": "ddfb4f0b",
   "metadata": {},
   "outputs": [],
   "source": [
    "df_4_star_hotels = pd.concat([hotel_name_4_star, Price_hotel_4_star, guest_ratings_hotel_4_star, guest_review_counts_4_star, location_hotel_4_star], axis=1)\n",
    "df_4_star_hotels['star_rating'] = 4\n",
    "\n",
    "# Print the total number of hotels\n",
    "print('Total Hotels : ', len(df_4_star_hotels))\n",
    "\n",
    "# Display the first few rows of the combined DataFrame\n",
    "df_4_star_hotels"
   ]
  },
  {
   "cell_type": "markdown",
   "id": "7a157352",
   "metadata": {},
   "source": [
    "#### Three Star Rating"
   ]
  },
  {
   "cell_type": "markdown",
   "id": "f95b389e",
   "metadata": {},
   "source": [
    "> * We are scraping data from hotels available in Yogyakarta, Indonesia, for the dates around July 26–27, 2025, filtered by a three-star hotel rating.\n",
    "\n",
    "> * We are scraping the first page using a scrolling system."
   ]
  },
  {
   "cell_type": "code",
   "execution_count": null,
   "id": "921936a5",
   "metadata": {},
   "outputs": [],
   "source": [
    "# URL Booking.com dengan filter bintang 3\n",
    "url_hotel_3_star = \"https://www.booking.com/searchresults.id.html?label=gen173nr-1BCAEoggI46AdIM1gEaGiIAQGYARK4ARfIAQzYAQHoAQGIAgGoAgO4AsneycMGwAIB0gIkM2NiM2FjZTgtN2QyNC00ODcwLWE4NDktOGViYTUzN2NjNWFk2AIF4AIB&sid=98a2dc5e83d843937bd12ce44cdf1994&aid=304142&ss=Yogyakarta&ssne=Yogyakarta&ssne_untouched=Yogyakarta&efdco=1&lang=id&src=searchresults&dest_id=-2703546&dest_type=city&checkin=2025-07-26&checkout=2025-07-27&group_adults=2&no_rooms=1&group_children=0&nflt=class%3D3\"\n",
    "\n",
    "# Konfigurasi Chrome\n",
    "option = webdriver.ChromeOptions()\n",
    "option.add_argument(\"--start-maximized\")\n",
    "\n",
    "driver = webdriver.Chrome(options=option)\n",
    "driver.get(url_hotel_3_star)\n",
    "\n",
    "# Waktu tunggu awal\n",
    "time.sleep(5)\n",
    "\n",
    "# Simulasikan scroll hingga akhir halaman\n",
    "last_height = driver.execute_script(\"return document.body.scrollHeight\")\n",
    "scroll_pause_time = 3\n",
    "\n",
    "while True:\n",
    "    # Scroll ke bawah\n",
    "    driver.execute_script(\"window.scrollTo(0, document.body.scrollHeight);\")\n",
    "    time.sleep(scroll_pause_time)\n",
    "\n",
    "    # Cek apakah sudah tidak ada perubahan scroll\n",
    "    new_height = driver.execute_script(\"return document.body.scrollHeight\")\n",
    "    if new_height == last_height:\n",
    "        break\n",
    "    last_height = new_height\n",
    "\n",
    "# Setelah selesai scroll, ambil HTML\n",
    "soup_3_star = BeautifulSoup(driver.page_source, \"html.parser\")"
   ]
  },
  {
   "cell_type": "code",
   "execution_count": null,
   "id": "7782f281",
   "metadata": {},
   "outputs": [],
   "source": [
    "div_3_star_containers = soup_3_star.find_all('div', attrs={'class':\"aa97d6032f\"})\n",
    "print(div_3_star_containers)"
   ]
  },
  {
   "cell_type": "markdown",
   "id": "43da12c5",
   "metadata": {},
   "source": [
    "- Hotel Names"
   ]
  },
  {
   "cell_type": "code",
   "execution_count": null,
   "id": "2e5ef42a",
   "metadata": {},
   "outputs": [],
   "source": [
    "hotel_names = []\n",
    "for container in div_3_star_containers:\n",
    "    name = container.find('div', attrs={\"class\":'b87c397a13 a3e0b4ffd1'})\n",
    "    print('==== part 1====')\n",
    "    print(name)\n",
    "    if name:\n",
    "      names = name.text.strip()\n",
    "    else:\n",
    "      names = None\n",
    "    hotel_names.append((names))\n",
    "    print('==== part 2====')\n",
    "    print(hotel_names)\n",
    "\n",
    "hotel_name_3_star = pd.DataFrame(hotel_names, columns=['Name'])\n",
    "hotel_name_3_star"
   ]
  },
  {
   "cell_type": "markdown",
   "id": "4cdfe22c",
   "metadata": {},
   "source": [
    "- Price Hotels"
   ]
  },
  {
   "cell_type": "code",
   "execution_count": null,
   "id": "0d491b6e",
   "metadata": {},
   "outputs": [],
   "source": [
    "# Extract prices\n",
    "Price_hotel = []\n",
    "for container in div_3_star_containers:\n",
    "    Price = container.find('span', attrs={\"class\": 'b87c397a13 f2f358d1de ab607752a2'})\n",
    "    # listingPrice__finalPrice listingPrice__finalPrice--black\n",
    "    if Price:\n",
    "       Prices = Price.text.strip()\n",
    "    else:\n",
    "       Prices = None\n",
    "    Price_hotel.append(Prices)\n",
    "    # print(Price_hotel)\n",
    "\n",
    "# Convert price list to DataFrame\n",
    "Price_hotel_3_star = pd.DataFrame(Price_hotel, columns=['Price'])\n",
    "Price_hotel_3_star"
   ]
  },
  {
   "cell_type": "markdown",
   "id": "72a1622f",
   "metadata": {},
   "source": [
    "- Guest Rating"
   ]
  },
  {
   "cell_type": "code",
   "execution_count": null,
   "id": "edf4fc44",
   "metadata": {},
   "outputs": [],
   "source": [
    "guest_ratings_hotel = []\n",
    "\n",
    "for container in div_3_star_containers:\n",
    "    review_div = container.find('div', attrs={'data-testid': 'review-score'})\n",
    "    if review_div:\n",
    "        rating_span = review_div.find('div', class_='f63b14ab7a dff2e52086')\n",
    "        if rating_span:\n",
    "            guest_ratings_hotel.append(rating_span.text.strip())\n",
    "        else:\n",
    "            guest_ratings_hotel.append(None)\n",
    "    else:\n",
    "        guest_ratings_hotel.append(None)\n",
    "\n",
    "guest_ratings_hotel_3_star = pd.DataFrame(guest_ratings_hotel, columns=['guest_rating'])\n",
    "guest_ratings_hotel_3_star\n"
   ]
  },
  {
   "cell_type": "markdown",
   "id": "198a5581",
   "metadata": {},
   "source": [
    "- Total Rating"
   ]
  },
  {
   "cell_type": "code",
   "execution_count": null,
   "id": "f6b50d57",
   "metadata": {},
   "outputs": [],
   "source": [
    "guest_review_counts = []\n",
    "\n",
    "for container in div_3_star_containers:\n",
    "    review_score_section = container.find('div', attrs={'data-testid': 'review-score'})\n",
    "    if review_score_section:\n",
    "        review_count_div = review_score_section.find('div', class_='fff1944c52 fb14de7f14 eaa8455879')\n",
    "        if review_count_div:\n",
    "            text = review_count_div.text\n",
    "            guest_review_counts.append(text)\n",
    "        else:\n",
    "            guest_review_counts.append(None)\n",
    "    else:\n",
    "        guest_review_counts.append(None)\n",
    "\n",
    "guest_review_counts_3_star = pd.DataFrame(guest_review_counts, columns=['total_guest_reviews'])\n",
    "guest_review_counts_3_star\n"
   ]
  },
  {
   "cell_type": "markdown",
   "id": "3acda4ea",
   "metadata": {},
   "source": [
    "- Location"
   ]
  },
  {
   "cell_type": "code",
   "execution_count": null,
   "id": "cd300605",
   "metadata": {},
   "outputs": [],
   "source": [
    "location_hotel_3_star = []\n",
    "for container in div_3_star_containers:\n",
    "    location = container.find('span', attrs={\"class\":'d823fbbeed f9b3563dd4'}).text\n",
    "    location_hotel_3_star.append((location))\n",
    "\n",
    "location_hotel_3_star = pd.DataFrame(location_hotel_3_star, columns=['Location'])\n",
    "location_hotel_3_star"
   ]
  },
  {
   "cell_type": "markdown",
   "id": "ade248e8",
   "metadata": {},
   "source": [
    "- Merge Columns"
   ]
  },
  {
   "cell_type": "code",
   "execution_count": null,
   "id": "f46587af",
   "metadata": {},
   "outputs": [],
   "source": [
    "df_3_star_hotels = pd.concat([hotel_name_3_star, Price_hotel_3_star, guest_ratings_hotel_3_star, guest_review_counts_3_star, location_hotel_3_star], axis=1)\n",
    "df_3_star_hotels['star_rating'] = 3\n",
    "\n",
    "# Print the total number of hotels\n",
    "print('Total Hotels : ', len(df_3_star_hotels))\n",
    "\n",
    "# Display the first few rows of the combined DataFrame\n",
    "df_3_star_hotels"
   ]
  },
  {
   "cell_type": "markdown",
   "id": "41f982bf",
   "metadata": {},
   "source": [
    "#### Two Star Rating"
   ]
  },
  {
   "cell_type": "markdown",
   "id": "0ffa1ce1",
   "metadata": {},
   "source": [
    "> * We are scraping data from hotels available in Yogyakarta, Indonesia, for the dates around July 26–27, 2025, filtered by a Two-star hotel rating.\n",
    "\n",
    "> * We are scraping the first page using a scrolling system."
   ]
  },
  {
   "cell_type": "code",
   "execution_count": null,
   "id": "d65d31f7",
   "metadata": {},
   "outputs": [],
   "source": [
    "# URL Booking.com dengan filter bintang 2\n",
    "url_hotel_2_star = \"https://www.booking.com/searchresults.id.html?label=gen173nr-1BCAEoggI46AdIM1gEaGiIAQGYARK4ARfIAQzYAQHoAQGIAgGoAgO4AsneycMGwAIB0gIkM2NiM2FjZTgtN2QyNC00ODcwLWE4NDktOGViYTUzN2NjNWFk2AIF4AIB&sid=98a2dc5e83d843937bd12ce44cdf1994&aid=304142&ss=Yogyakarta&ssne=Yogyakarta&ssne_untouched=Yogyakarta&efdco=1&lang=id&src=searchresults&dest_id=-2703546&dest_type=city&checkin=2025-07-26&checkout=2025-07-27&group_adults=2&no_rooms=1&group_children=0&nflt=class%3D2\"\n",
    "\n",
    "# Konfigurasi Chrome\n",
    "option = webdriver.ChromeOptions()\n",
    "option.add_argument(\"--start-maximized\")\n",
    "\n",
    "driver = webdriver.Chrome(options=option)\n",
    "driver.get(url_hotel_2_star)\n",
    "\n",
    "# Waktu tunggu awal\n",
    "time.sleep(5)\n",
    "\n",
    "# Simulasikan scroll hingga akhir halaman\n",
    "last_height = driver.execute_script(\"return document.body.scrollHeight\")\n",
    "scroll_pause_time = 3\n",
    "\n",
    "while True:\n",
    "    # Scroll ke bawah\n",
    "    driver.execute_script(\"window.scrollTo(0, document.body.scrollHeight);\")\n",
    "    time.sleep(scroll_pause_time)\n",
    "\n",
    "    # Cek apakah sudah tidak ada perubahan scroll\n",
    "    new_height = driver.execute_script(\"return document.body.scrollHeight\")\n",
    "    if new_height == last_height:\n",
    "        break\n",
    "    last_height = new_height\n",
    "\n",
    "# Setelah selesai scroll, ambil HTML\n",
    "soup_2_star = BeautifulSoup(driver.page_source, \"html.parser\")"
   ]
  },
  {
   "cell_type": "code",
   "execution_count": null,
   "id": "03aef46c",
   "metadata": {},
   "outputs": [],
   "source": [
    "div_2_star_containers = soup_2_star.find_all('div', attrs={'class':\"aa97d6032f\"})\n",
    "print(div_2_star_containers)"
   ]
  },
  {
   "cell_type": "markdown",
   "id": "0b7d0f64",
   "metadata": {},
   "source": [
    "- Hotel Names"
   ]
  },
  {
   "cell_type": "code",
   "execution_count": null,
   "id": "b106699d",
   "metadata": {},
   "outputs": [],
   "source": [
    "hotel_names = []\n",
    "for container in div_2_star_containers:\n",
    "    name = container.find('div', attrs={\"class\":'b87c397a13 a3e0b4ffd1'})\n",
    "    print('==== part 1====')\n",
    "    print(name)\n",
    "    if name:\n",
    "      names = name.text.strip()\n",
    "    else:\n",
    "      names = None\n",
    "    hotel_names.append((names))\n",
    "    print('==== part 2====')\n",
    "    print(hotel_names)\n",
    "\n",
    "hotel_name_2_star = pd.DataFrame(hotel_names, columns=['Name'])\n",
    "hotel_name_2_star"
   ]
  },
  {
   "cell_type": "markdown",
   "id": "c1912108",
   "metadata": {},
   "source": [
    "- Hotel Price"
   ]
  },
  {
   "cell_type": "code",
   "execution_count": null,
   "id": "d293e842",
   "metadata": {},
   "outputs": [],
   "source": [
    "# Extract prices\n",
    "Price_hotel = []\n",
    "for container in div_2_star_containers:\n",
    "    Price = container.find('span', attrs={\"class\": 'b87c397a13 f2f358d1de ab607752a2'})\n",
    "    # listingPrice__finalPrice listingPrice__finalPrice--black\n",
    "    if Price:\n",
    "       Prices = Price.text.strip()\n",
    "    else:\n",
    "       Prices = None\n",
    "    Price_hotel.append(Prices)\n",
    "    # print(Price_hotel)\n",
    "\n",
    "# Convert price list to DataFrame\n",
    "Price_hotel_2_star = pd.DataFrame(Price_hotel, columns=['Price'])\n",
    "Price_hotel_2_star"
   ]
  },
  {
   "cell_type": "markdown",
   "id": "4f8311ef",
   "metadata": {},
   "source": [
    "- Guest Rating"
   ]
  },
  {
   "cell_type": "code",
   "execution_count": null,
   "id": "98ef8312",
   "metadata": {},
   "outputs": [],
   "source": [
    "guest_ratings_hotel = []\n",
    "\n",
    "for container in div_2_star_containers:\n",
    "    review_div = container.find('div', attrs={'data-testid': 'review-score'})\n",
    "    if review_div:\n",
    "        rating_span = review_div.find('div', class_='f63b14ab7a dff2e52086')\n",
    "        if rating_span:\n",
    "            guest_ratings_hotel.append(rating_span.text.strip())\n",
    "        else:\n",
    "            guest_ratings_hotel.append(None)\n",
    "    else:\n",
    "        guest_ratings_hotel.append(None)\n",
    "\n",
    "guest_ratings_hotel_2_star = pd.DataFrame(guest_ratings_hotel, columns=['guest_rating'])\n",
    "guest_ratings_hotel_2_star\n"
   ]
  },
  {
   "cell_type": "markdown",
   "id": "c7b9d2e2",
   "metadata": {},
   "source": [
    "- Total rating"
   ]
  },
  {
   "cell_type": "code",
   "execution_count": null,
   "id": "f795dbdd",
   "metadata": {},
   "outputs": [],
   "source": [
    "guest_review_counts = []\n",
    "\n",
    "for container in div_2_star_containers:\n",
    "    review_score_section = container.find('div', attrs={'data-testid': 'review-score'})\n",
    "    if review_score_section:\n",
    "        review_count_div = review_score_section.find('div', class_='fff1944c52 fb14de7f14 eaa8455879')\n",
    "        if review_count_div:\n",
    "            text = review_count_div.text\n",
    "            guest_review_counts.append(text)\n",
    "        else:\n",
    "            guest_review_counts.append(None)\n",
    "    else:\n",
    "        guest_review_counts.append(None)\n",
    "\n",
    "guest_review_counts_2_star = pd.DataFrame(guest_review_counts, columns=['total_guest_reviews'])\n",
    "guest_review_counts_2_star"
   ]
  },
  {
   "cell_type": "markdown",
   "id": "7fa0e661",
   "metadata": {},
   "source": [
    "- Location"
   ]
  },
  {
   "cell_type": "code",
   "execution_count": null,
   "id": "1d1e5a07",
   "metadata": {},
   "outputs": [],
   "source": [
    "location_hotel_2_star = []\n",
    "for container in div_2_star_containers:\n",
    "    location = container.find('span', attrs={\"class\":'d823fbbeed f9b3563dd4'}).text\n",
    "    location_hotel_2_star.append((location))\n",
    "\n",
    "location_hotel_2_star = pd.DataFrame(location_hotel_2_star, columns=['Location'])\n",
    "location_hotel_2_star"
   ]
  },
  {
   "cell_type": "markdown",
   "id": "b1964538",
   "metadata": {},
   "source": [
    "- Merge Columns"
   ]
  },
  {
   "cell_type": "code",
   "execution_count": null,
   "id": "330a2aa1",
   "metadata": {},
   "outputs": [],
   "source": [
    "df_2_star_hotels = pd.concat([hotel_name_2_star, Price_hotel_2_star, guest_ratings_hotel_2_star, guest_review_counts_2_star, location_hotel_2_star], axis=1)\n",
    "df_2_star_hotels['star_rating'] = 2\n",
    "\n",
    "# Print the total number of hotels\n",
    "print('Total Hotels : ', len(df_3_star_hotels))\n",
    "\n",
    "# Display the first few rows of the combined DataFrame\n",
    "df_2_star_hotels"
   ]
  },
  {
   "cell_type": "markdown",
   "id": "b88f7a41",
   "metadata": {},
   "source": [
    "#### One Star Rating"
   ]
  },
  {
   "cell_type": "markdown",
   "id": "3a36966a",
   "metadata": {},
   "source": [
    "> * We are scraping data from hotels available in Yogyakarta, Indonesia, for the dates around July 26–27, 2025, filtered by a five-star hotel rating.\n",
    "\n",
    "> * We are scraping the first page using a scrolling system."
   ]
  },
  {
   "cell_type": "code",
   "execution_count": null,
   "id": "ba5ad6ef",
   "metadata": {},
   "outputs": [],
   "source": [
    "# URL Booking.com dengan filter bintang 3\n",
    "url_hotel_1_star = \"https://www.booking.com/searchresults.id.html?label=gen173nr-1BCAEoggI46AdIM1gEaGiIAQGYARK4ARfIAQzYAQHoAQGIAgGoAgO4AsneycMGwAIB0gIkM2NiM2FjZTgtN2QyNC00ODcwLWE4NDktOGViYTUzN2NjNWFk2AIF4AIB&sid=98a2dc5e83d843937bd12ce44cdf1994&aid=304142&ss=Yogyakarta&ssne=Yogyakarta&ssne_untouched=Yogyakarta&efdco=1&lang=id&src=searchresults&dest_id=-2703546&dest_type=city&checkin=2025-07-26&checkout=2025-07-27&group_adults=2&no_rooms=1&group_children=0&nflt=class%3D1\"\n",
    "\n",
    "# Konfigurasi Chrome\n",
    "option = webdriver.ChromeOptions()\n",
    "option.add_argument(\"--start-maximized\")\n",
    "\n",
    "driver = webdriver.Chrome(options=option)\n",
    "driver.get(url_hotel_1_star)\n",
    "\n",
    "# Waktu tunggu awal\n",
    "time.sleep(5)\n",
    "\n",
    "# Simulasikan scroll hingga akhir halaman\n",
    "last_height = driver.execute_script(\"return document.body.scrollHeight\")\n",
    "scroll_pause_time = 3\n",
    "\n",
    "while True:\n",
    "    # Scroll ke bawah\n",
    "    driver.execute_script(\"window.scrollTo(0, document.body.scrollHeight);\")\n",
    "    time.sleep(scroll_pause_time)\n",
    "\n",
    "    # Cek apakah sudah tidak ada perubahan scroll\n",
    "    new_height = driver.execute_script(\"return document.body.scrollHeight\")\n",
    "    if new_height == last_height:\n",
    "        break\n",
    "    last_height = new_height\n",
    "\n",
    "# Setelah selesai scroll, ambil HTML\n",
    "soup_1_star = BeautifulSoup(driver.page_source, \"html.parser\")"
   ]
  },
  {
   "cell_type": "code",
   "execution_count": null,
   "id": "b2798e0f",
   "metadata": {},
   "outputs": [],
   "source": [
    "div_1_star_containers = soup_1_star.find_all('div', attrs={'class':\"aa97d6032f\"})\n",
    "print(div_1_star_containers)"
   ]
  },
  {
   "cell_type": "markdown",
   "id": "f2fa29d8",
   "metadata": {},
   "source": [
    "- Hotel Names"
   ]
  },
  {
   "cell_type": "code",
   "execution_count": null,
   "id": "244bcfa8",
   "metadata": {},
   "outputs": [],
   "source": [
    "hotel_names = []\n",
    "for container in div_1_star_containers:\n",
    "    name = container.find('div', attrs={\"class\":'b87c397a13 a3e0b4ffd1'})\n",
    "    print('==== part 1====')\n",
    "    print(name)\n",
    "    if name:\n",
    "      names = name.text.strip()\n",
    "    else:\n",
    "      names = None\n",
    "    hotel_names.append((names))\n",
    "    print('==== part 2====')\n",
    "    print(hotel_names)\n",
    "\n",
    "hotel_name_1_star = pd.DataFrame(hotel_names, columns=['Name'])\n",
    "hotel_name_1_star"
   ]
  },
  {
   "cell_type": "markdown",
   "id": "e3bb2f50",
   "metadata": {},
   "source": [
    "- Hotel Price"
   ]
  },
  {
   "cell_type": "code",
   "execution_count": null,
   "id": "75f90159",
   "metadata": {},
   "outputs": [],
   "source": [
    "# Extract prices\n",
    "Price_hotel = []\n",
    "for container in div_1_star_containers:\n",
    "    Price = container.find('span', attrs={\"class\": 'b87c397a13 f2f358d1de ab607752a2'})\n",
    "    # listingPrice__finalPrice listingPrice__finalPrice--black\n",
    "    if Price:\n",
    "       Prices = Price.text.strip()\n",
    "    else:\n",
    "       Prices = None\n",
    "    Price_hotel.append(Prices)\n",
    "    # print(Price_hotel)\n",
    "\n",
    "# Convert price list to DataFrame\n",
    "Price_hotel_1_star = pd.DataFrame(Price_hotel, columns=['Price'])\n",
    "Price_hotel_1_star"
   ]
  },
  {
   "cell_type": "markdown",
   "id": "b5e33622",
   "metadata": {},
   "source": [
    "- Guest Rating"
   ]
  },
  {
   "cell_type": "code",
   "execution_count": null,
   "id": "30eee9bb",
   "metadata": {},
   "outputs": [],
   "source": [
    "guest_ratings_hotel = []\n",
    "\n",
    "for container in div_1_star_containers:\n",
    "    review_div = container.find('div', attrs={'data-testid': 'review-score'})\n",
    "    if review_div:\n",
    "        rating_span = review_div.find('div', class_='f63b14ab7a dff2e52086')\n",
    "        if rating_span:\n",
    "            guest_ratings_hotel.append(rating_span.text.strip())\n",
    "        else:\n",
    "            guest_ratings_hotel.append(None)\n",
    "    else:\n",
    "        guest_ratings_hotel.append(None)\n",
    "\n",
    "guest_ratings_hotel_1_star = pd.DataFrame(guest_ratings_hotel, columns=['guest_rating'])\n",
    "guest_ratings_hotel_1_star\n"
   ]
  },
  {
   "cell_type": "markdown",
   "id": "a008a858",
   "metadata": {},
   "source": [
    "- Total Rating"
   ]
  },
  {
   "cell_type": "code",
   "execution_count": null,
   "id": "dff6d90d",
   "metadata": {},
   "outputs": [],
   "source": [
    "guest_review_counts = []\n",
    "\n",
    "for container in div_1_star_containers:\n",
    "    review_score_section = container.find('div', attrs={'data-testid': 'review-score'})\n",
    "    if review_score_section:\n",
    "        review_count_div = review_score_section.find('div', class_='fff1944c52 fb14de7f14 eaa8455879')\n",
    "        if review_count_div:\n",
    "            text = review_count_div.text\n",
    "            guest_review_counts.append(text)\n",
    "        else:\n",
    "            guest_review_counts.append(None)\n",
    "    else:\n",
    "        guest_review_counts.append(None)\n",
    "\n",
    "guest_review_counts_1_star = pd.DataFrame(guest_review_counts, columns=['total_guest_reviews'])\n",
    "guest_review_counts_1_star"
   ]
  },
  {
   "cell_type": "markdown",
   "id": "98952fb9",
   "metadata": {},
   "source": [
    "- Location"
   ]
  },
  {
   "cell_type": "code",
   "execution_count": null,
   "id": "190400d0",
   "metadata": {},
   "outputs": [],
   "source": [
    "location_hotel_1_star = []\n",
    "for container in div_1_star_containers:\n",
    "    location = container.find('span', attrs={\"class\":'d823fbbeed f9b3563dd4'}).text\n",
    "    location_hotel_1_star.append((location))\n",
    "\n",
    "location_hotel_1_star = pd.DataFrame(location_hotel_1_star, columns=['Location'])\n",
    "location_hotel_1_star"
   ]
  },
  {
   "cell_type": "markdown",
   "id": "89e1bc36",
   "metadata": {},
   "source": [
    "- Merge Columns"
   ]
  },
  {
   "cell_type": "code",
   "execution_count": null,
   "id": "4e34bd84",
   "metadata": {},
   "outputs": [],
   "source": [
    "df_1_star_hotels = pd.concat([hotel_name_1_star, Price_hotel_1_star, guest_ratings_hotel_1_star, guest_review_counts_1_star, location_hotel_1_star], axis=1)\n",
    "df_1_star_hotels['star_rating'] = 1\n",
    "\n",
    "# Print the total number of hotels\n",
    "print('Total Hotels : ', len(df_1_star_hotels))\n",
    "\n",
    "# Display the first few rows of the combined DataFrame\n",
    "df_1_star_hotels"
   ]
  },
  {
   "cell_type": "markdown",
   "id": "57e63bdc",
   "metadata": {},
   "source": [
    "#### Merge All Tables"
   ]
  },
  {
   "cell_type": "code",
   "execution_count": null,
   "id": "a1a4872c",
   "metadata": {},
   "outputs": [],
   "source": [
    "df_hotel = pd.concat([\n",
    "    df_1_star_hotels,\n",
    "    df_2_star_hotels,\n",
    "    df_3_star_hotels,\n",
    "    df_4_star_hotels,\n",
    "    df_5_star_hotels\n",
    "], ignore_index=True)"
   ]
  },
  {
   "cell_type": "code",
   "execution_count": null,
   "id": "d1f154f5",
   "metadata": {},
   "outputs": [],
   "source": [
    "print('Total Hotels : ', len(df_hotel))\n",
    "df_hotel.sample(10)"
   ]
  },
  {
   "cell_type": "markdown",
   "id": "27cdafd0",
   "metadata": {},
   "source": [
    "Description:\n",
    "In this script, we use the pd.concat() function from the Pandas library to vertically concatenate multiple hotel DataFrames (df_1_star_hotels, df_2_star_hotels, ..., df_5_star_hotels) into a single unified DataFrame named df_hotel. The parameter ignore_index=True ensures the resulting DataFrame has a clean, continuous index.\n",
    "\n",
    "After merging the data, we create a new column named Rp_Price by removing the \"Rp\" prefix and thousand separators (.) from the original Price column. The cleaned values are then converted into numeric format using the int64 data type, which represents the hotel prices in Indonesian Rupiah (Rp) as whole numbers.\n",
    "\n",
    "Finally, we print the total number of hotel entries using the len() function.\n",
    "\n",
    "Impact on Data Integrity:\n",
    "* Vertical concatenation (union) ensures that all hotel records from different star ratings are combined row-wise, with no column misalignment.\n",
    "\n",
    "* Converting the Price column to int64 ensures accurate handling of currency as whole numbers, which is typically how prices are represented in real-world hotel listings.\n",
    "\n",
    "* Removing formatting characters from the Price column helps avoid errors during numeric operations like sorting, filtering, or aggregation.\n",
    "\n",
    "* Knowing the total number of hotel entries provides insight into the dataset’s size and helps assess completeness and readiness for further analysis."
   ]
  },
  {
   "cell_type": "markdown",
   "id": "686fb234",
   "metadata": {},
   "source": [
    "#### Cleaning"
   ]
  },
  {
   "cell_type": "code",
   "execution_count": null,
   "id": "01b21b4b",
   "metadata": {},
   "outputs": [],
   "source": [
    "df_hotel['Total_ratings'] = df_hotel['total_guest_reviews'].str.extract('(\\d+)')\n",
    "df_hotel['Total_ratings'] = df_hotel['Total_ratings'].astype('Int64')\n",
    "df_hotel.sample(10)"
   ]
  },
  {
   "cell_type": "markdown",
   "id": "256680f8",
   "metadata": {},
   "source": [
    "> Description:\n",
    "<br> We extract numeric values from the 'total_guest_reviews' column using str.extract() with the regex (\\d+), then convert the result to the nullable integer type Int64 in a new column called 'Total_ratings'. This allows numerical operations while handling missing values (NaN).\n",
    "\n",
    "> Impact on Data Integrity:\n",
    "<br> If the original text contains no digits, NaN will be returned. Using Int64 prevents errors from missing values and ensures the column is ready for analysis."
   ]
  },
  {
   "cell_type": "code",
   "execution_count": null,
   "id": "4b9c23ff",
   "metadata": {},
   "outputs": [],
   "source": [
    "df_hotel['Rp_Price'] = df_hotel['Price'].str.replace('Rp', '', regex=False).str.replace('.', '', regex=False).str.strip()\n",
    "df_hotel['Rp_Price'] = df_hotel['Rp_Price'].astype('int64')\n",
    "df_hotel.sample(10)"
   ]
  },
  {
   "cell_type": "code",
   "execution_count": null,
   "id": "9dfc5f4b",
   "metadata": {},
   "outputs": [],
   "source": [
    "# Ganti koma menjadi titik dan ubah ke float\n",
    "df_hotel['guest_rating'] = df_hotel['guest_rating'].str.replace(',', '.', regex=False).astype(float)\n",
    "# Normalisasi ke skala 1-5\n",
    "df_hotel['guest_rating_normalized'] = df_hotel['guest_rating'] / 2"
   ]
  },
  {
   "cell_type": "code",
   "execution_count": null,
   "id": "3ac354c9",
   "metadata": {},
   "outputs": [],
   "source": [
    "# Drop kolom mentah setelah dibuat versi bersihnya\n",
    "df_hotel = df_hotel.drop(['Price', 'guest_rating', 'total_guest_reviews'], axis=1)"
   ]
  },
  {
   "cell_type": "markdown",
   "id": "704699ef",
   "metadata": {},
   "source": [
    "> Description:<br>\n",
    "The `guest_rating` column was normalized by dividing all values by 2, converting the rating scale from 1–10 to 1–5. This was stored in a new column `guest_rating_normalized`.\n",
    "\n",
    "> Impact on Data Integrity:<br>\n",
    "Normalizing `guest_rating` to a 5-point scale ensures consistency with common rating systems and improves comparability for analysis or modeling. The original data remains intact, but slight floating-point differences may occur, requiring rounding if needed."
   ]
  },
  {
   "cell_type": "code",
   "execution_count": null,
   "id": "13cd1786",
   "metadata": {},
   "outputs": [],
   "source": [
    "df_hotel.info()"
   ]
  },
  {
   "cell_type": "code",
   "execution_count": null,
   "id": "0ac5d89d",
   "metadata": {},
   "outputs": [],
   "source": [
    "# Konversi ke float untuk memastikan tidak error\n",
    "df_hotel['Total_ratings'] = df_hotel['Total_ratings'].astype(float)\n",
    "df_hotel['guest_rating_normalized'] = df_hotel['guest_rating_normalized'].astype(float)\n",
    "\n",
    "# Isi nilai null dengan median\n",
    "df_hotel['Total_ratings'] = df_hotel['Total_ratings'].fillna(df_hotel['Total_ratings'].median())\n",
    "df_hotel['guest_rating_normalized'] = df_hotel['guest_rating_normalized'].fillna(df_hotel['guest_rating_normalized'].median())\n"
   ]
  },
  {
   "cell_type": "markdown",
   "id": "1f5a6714",
   "metadata": {},
   "source": [
    "> Description: <br>\n",
    "Missing values in both `Total_ratings` and `guest_rating_normalized` were replaced with the median of each column. Median was chosen to reduce the influence of outliers.\n",
    "\n",
    "> Impact on Data Integrity:<br>\n",
    "Filling missing values with the median retains all rows, avoiding data loss from nulls. Median is a robust measure that provides a fair estimate, especially with outliers. However, since the values are imputed, they may not reflect the actual data and could slightly bias the distribution if the missingness is not random."
   ]
  },
  {
   "cell_type": "code",
   "execution_count": null,
   "id": "9729487c",
   "metadata": {},
   "outputs": [],
   "source": [
    "df_hotel.sample(10)"
   ]
  },
  {
   "cell_type": "code",
   "execution_count": null,
   "id": "3bfba1ea",
   "metadata": {},
   "outputs": [],
   "source": [
    "# #convert df_hotel to csv\n",
    "df_hotel.to_csv('hotel.csv', index=False)\n",
    "# # After this we can export to SQL table"
   ]
  },
  {
   "cell_type": "code",
   "execution_count": null,
   "id": "969fe9f5",
   "metadata": {},
   "outputs": [],
   "source": []
  }
 ],
 "metadata": {
  "kernelspec": {
   "display_name": "Python 3",
   "language": "python",
   "name": "python3"
  },
  "language_info": {
   "codemirror_mode": {
    "name": "ipython",
    "version": 3
   },
   "file_extension": ".py",
   "mimetype": "text/x-python",
   "name": "python",
   "nbconvert_exporter": "python",
   "pygments_lexer": "ipython3",
   "version": "3.10.0"
  }
 },
 "nbformat": 4,
 "nbformat_minor": 5
}
